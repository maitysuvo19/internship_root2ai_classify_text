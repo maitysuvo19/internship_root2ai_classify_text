{
  "nbformat": 4,
  "nbformat_minor": 0,
  "metadata": {
    "colab": {
      "name": "Root2ai_classification_bagofwords_INTERPRETATION.ipynb",
      "provenance": [],
      "collapsed_sections": [],
      "toc_visible": true,
      "include_colab_link": true
    },
    "kernelspec": {
      "name": "python3",
      "display_name": "Python 3"
    },
    "language_info": {
      "name": "python"
    }
  },
  "cells": [
    {
      "cell_type": "markdown",
      "metadata": {
        "id": "view-in-github",
        "colab_type": "text"
      },
      "source": [
        "<a href=\"https://colab.research.google.com/github/maitysuvo19/internship_root2ai_classify_text/blob/main/Root2ai_classification_bagofwords_INTERPRETATION.ipynb\" target=\"_parent\"><img src=\"https://colab.research.google.com/assets/colab-badge.svg\" alt=\"Open In Colab\"/></a>"
      ]
    },
    {
      "cell_type": "markdown",
      "metadata": {
        "id": "ubyHrlrzKcRM"
      },
      "source": [
        "# Importing necessary libraries"
      ]
    },
    {
      "cell_type": "code",
      "metadata": {
        "colab": {
          "base_uri": "https://localhost:8080/"
        },
        "id": "1N76uPfmKIh1",
        "outputId": "422997ee-6ca0-44ac-86ac-7a60004b02d0"
      },
      "source": [
        "import os\n",
        "import pandas as pd\n",
        "import numpy as np\n",
        "\n",
        "#import feature extraction methods from sklearn\n",
        "from sklearn.feature_extraction.text import CountVectorizer\n",
        "from sklearn.feature_extraction import stop_words\n",
        "\n",
        "#pre-processing of text\n",
        "import string\n",
        "import re\n",
        "\n",
        "#import classifiers from sklearn\n",
        "from sklearn.naive_bayes import MultinomialNB\n",
        "from sklearn.linear_model import LogisticRegression\n",
        "from sklearn.svm import LinearSVC\n",
        "\n",
        "#import different metrics to evaluate the classifiers\n",
        "from sklearn.metrics import accuracy_score\n",
        "from sklearn.model_selection import train_test_split\n",
        "from sklearn.metrics import confusion_matrix,classification_report \n",
        "from sklearn import metrics\n",
        "\n",
        "#import time function from time module to track the training duration\n",
        "from time import time"
      ],
      "execution_count": null,
      "outputs": [
        {
          "output_type": "stream",
          "text": [
            "/usr/local/lib/python3.7/dist-packages/sklearn/utils/deprecation.py:144: FutureWarning: The sklearn.feature_extraction.stop_words module is  deprecated in version 0.22 and will be removed in version 0.24. The corresponding classes / functions should instead be imported from sklearn.feature_extraction.text. Anything that cannot be imported from sklearn.feature_extraction.text is now part of the private API.\n",
            "  warnings.warn(message, FutureWarning)\n"
          ],
          "name": "stderr"
        }
      ]
    },
    {
      "cell_type": "code",
      "metadata": {
        "id": "FR7rQRGbK2gC"
      },
      "source": [
        "df=pd.read_csv('/content/root2ai - Data.csv')"
      ],
      "execution_count": null,
      "outputs": []
    },
    {
      "cell_type": "code",
      "metadata": {
        "colab": {
          "base_uri": "https://localhost:8080/",
          "height": 195
        },
        "id": "GoQyJH9YLGQ-",
        "outputId": "a2c5a4ca-b8bc-43b2-ed75-0c0be99c556e"
      },
      "source": [
        "df.head()"
      ],
      "execution_count": null,
      "outputs": [
        {
          "output_type": "execute_result",
          "data": {
            "text/html": [
              "<div>\n",
              "<style scoped>\n",
              "    .dataframe tbody tr th:only-of-type {\n",
              "        vertical-align: middle;\n",
              "    }\n",
              "\n",
              "    .dataframe tbody tr th {\n",
              "        vertical-align: top;\n",
              "    }\n",
              "\n",
              "    .dataframe thead th {\n",
              "        text-align: right;\n",
              "    }\n",
              "</style>\n",
              "<table border=\"1\" class=\"dataframe\">\n",
              "  <thead>\n",
              "    <tr style=\"text-align: right;\">\n",
              "      <th></th>\n",
              "      <th>Text</th>\n",
              "      <th>Target</th>\n",
              "    </tr>\n",
              "  </thead>\n",
              "  <tbody>\n",
              "    <tr>\n",
              "      <th>0</th>\n",
              "      <td>reserve bank forming expert committee based in...</td>\n",
              "      <td>Blockchain</td>\n",
              "    </tr>\n",
              "    <tr>\n",
              "      <th>1</th>\n",
              "      <td>director could play role financial system</td>\n",
              "      <td>Blockchain</td>\n",
              "    </tr>\n",
              "    <tr>\n",
              "      <th>2</th>\n",
              "      <td>preliminary discuss secure transaction study r...</td>\n",
              "      <td>Blockchain</td>\n",
              "    </tr>\n",
              "    <tr>\n",
              "      <th>3</th>\n",
              "      <td>security indeed prove essential transforming f...</td>\n",
              "      <td>Blockchain</td>\n",
              "    </tr>\n",
              "    <tr>\n",
              "      <th>4</th>\n",
              "      <td>bank settlement normally take three days based...</td>\n",
              "      <td>Blockchain</td>\n",
              "    </tr>\n",
              "  </tbody>\n",
              "</table>\n",
              "</div>"
            ],
            "text/plain": [
              "                                                Text      Target\n",
              "0  reserve bank forming expert committee based in...  Blockchain\n",
              "1          director could play role financial system  Blockchain\n",
              "2  preliminary discuss secure transaction study r...  Blockchain\n",
              "3  security indeed prove essential transforming f...  Blockchain\n",
              "4  bank settlement normally take three days based...  Blockchain"
            ]
          },
          "metadata": {
            "tags": []
          },
          "execution_count": 4
        }
      ]
    },
    {
      "cell_type": "code",
      "metadata": {
        "colab": {
          "base_uri": "https://localhost:8080/"
        },
        "id": "7T4vmFwQO7--",
        "outputId": "b0468939-ce6a-4d52-c31a-db475c3d8f68"
      },
      "source": [
        "df.info()"
      ],
      "execution_count": null,
      "outputs": [
        {
          "output_type": "stream",
          "text": [
            "<class 'pandas.core.frame.DataFrame'>\n",
            "RangeIndex: 22704 entries, 0 to 22703\n",
            "Data columns (total 2 columns):\n",
            " #   Column  Non-Null Count  Dtype \n",
            "---  ------  --------------  ----- \n",
            " 0   Text    22701 non-null  object\n",
            " 1   Target  22704 non-null  object\n",
            "dtypes: object(2)\n",
            "memory usage: 354.9+ KB\n"
          ],
          "name": "stdout"
        }
      ]
    },
    {
      "cell_type": "code",
      "metadata": {
        "colab": {
          "base_uri": "https://localhost:8080/"
        },
        "id": "Mx8FVoe6LOzA",
        "outputId": "7cf9dafa-86c9-4b97-f7d7-ecefbab79b21"
      },
      "source": [
        "df[\"Target\"].value_counts()/df.shape[0]"
      ],
      "execution_count": null,
      "outputs": [
        {
          "output_type": "execute_result",
          "data": {
            "text/plain": [
              "FinTech             0.376630\n",
              "Cyber Security      0.116279\n",
              "Bigdata             0.099850\n",
              "Reg Tech            0.097163\n",
              "credit reporting    0.076991\n",
              "Blockchain          0.060562\n",
              "Neobanks            0.047084\n",
              "Microservices       0.043032\n",
              "Stock Trading       0.034663\n",
              "Robo Advising       0.032461\n",
              "Data Security       0.015284\n",
              "Name: Target, dtype: float64"
            ]
          },
          "metadata": {
            "tags": []
          },
          "execution_count": 6
        }
      ]
    },
    {
      "cell_type": "code",
      "metadata": {
        "colab": {
          "base_uri": "https://localhost:8080/",
          "height": 195
        },
        "id": "xCt-BGIqLm_c",
        "outputId": "6ffd844c-6b1f-4eee-a745-c0d27f69a69d"
      },
      "source": [
        "df['Target'] =df.Target.map({'FinTech':1, 'Cyber Security':2,'Bigdata':3,'Reg Tech':4,'credit reporting':5,'Blockchain':6,'Neobanks':7,'Microservices':8,'Stock Trading':9,'Robo Advising':10,'Data Security':11})\n",
        "df = df[[\"Text\",\"Target\"]]\n",
        "df.head()"
      ],
      "execution_count": null,
      "outputs": [
        {
          "output_type": "execute_result",
          "data": {
            "text/html": [
              "<div>\n",
              "<style scoped>\n",
              "    .dataframe tbody tr th:only-of-type {\n",
              "        vertical-align: middle;\n",
              "    }\n",
              "\n",
              "    .dataframe tbody tr th {\n",
              "        vertical-align: top;\n",
              "    }\n",
              "\n",
              "    .dataframe thead th {\n",
              "        text-align: right;\n",
              "    }\n",
              "</style>\n",
              "<table border=\"1\" class=\"dataframe\">\n",
              "  <thead>\n",
              "    <tr style=\"text-align: right;\">\n",
              "      <th></th>\n",
              "      <th>Text</th>\n",
              "      <th>Target</th>\n",
              "    </tr>\n",
              "  </thead>\n",
              "  <tbody>\n",
              "    <tr>\n",
              "      <th>0</th>\n",
              "      <td>reserve bank forming expert committee based in...</td>\n",
              "      <td>6</td>\n",
              "    </tr>\n",
              "    <tr>\n",
              "      <th>1</th>\n",
              "      <td>director could play role financial system</td>\n",
              "      <td>6</td>\n",
              "    </tr>\n",
              "    <tr>\n",
              "      <th>2</th>\n",
              "      <td>preliminary discuss secure transaction study r...</td>\n",
              "      <td>6</td>\n",
              "    </tr>\n",
              "    <tr>\n",
              "      <th>3</th>\n",
              "      <td>security indeed prove essential transforming f...</td>\n",
              "      <td>6</td>\n",
              "    </tr>\n",
              "    <tr>\n",
              "      <th>4</th>\n",
              "      <td>bank settlement normally take three days based...</td>\n",
              "      <td>6</td>\n",
              "    </tr>\n",
              "  </tbody>\n",
              "</table>\n",
              "</div>"
            ],
            "text/plain": [
              "                                                Text  Target\n",
              "0  reserve bank forming expert committee based in...       6\n",
              "1          director could play role financial system       6\n",
              "2  preliminary discuss secure transaction study r...       6\n",
              "3  security indeed prove essential transforming f...       6\n",
              "4  bank settlement normally take three days based...       6"
            ]
          },
          "metadata": {
            "tags": []
          },
          "execution_count": 7
        }
      ]
    },
    {
      "cell_type": "markdown",
      "metadata": {
        "id": "KTWtf13YNyej"
      },
      "source": [
        "# Text Pre-processing"
      ]
    },
    {
      "cell_type": "markdown",
      "metadata": {
        "id": "qkSzmeQdN5BT"
      },
      "source": [
        "Typical steps involve tokenization, lower casing, removing, stop words, punctuation markers etc, and vectorization. Other processes such as stemming/lemmatization can also be performed. Here, we are performing the following steps: removing br tags, punctuation, numbers, and stopwords. While we are using sklearn's list of stopwords, there are several other stop word lists (e.g., from NLTK) or sometimes, custom stopword lists are needed depending on the task."
      ]
    },
    {
      "cell_type": "code",
      "metadata": {
        "id": "ScHKjznPN1WF"
      },
      "source": [
        "stopwords = stop_words.ENGLISH_STOP_WORDS\n",
        "def clean(doc): #doc is a string of text\n",
        "    doc = doc.replace(\"</br>\", \" \") #This text contains a lot of <br/> tags.\n",
        "    doc = \"\".join([char for char in doc if char not in string.punctuation and not char.isdigit()])\n",
        "    doc = \" \".join([token for token in doc.split() if token not in stopwords])\n",
        "    #remove punctuation and numbers\n",
        "    return doc"
      ],
      "execution_count": null,
      "outputs": []
    },
    {
      "cell_type": "markdown",
      "metadata": {
        "id": "iDVqAQ16ODUT"
      },
      "source": [
        "# Modeling"
      ]
    },
    {
      "cell_type": "code",
      "metadata": {
        "colab": {
          "base_uri": "https://localhost:8080/"
        },
        "id": "QH78U7PBN_Or",
        "outputId": "c86e9aeb-ce3a-446e-e01b-0b991dc78e36"
      },
      "source": [
        "#Step 1: train-test split\n",
        "X = df.Text.fillna(' ') #the column text contains textual data to extract features from\n",
        "y = df.Target #this is the column we are learning to predict. \n",
        "print(X.shape, y.shape)\n",
        "# split X and y into training and testing sets. By default, it splits 75% training and 25% test\n",
        "#random_state=1 for reproducibility\n",
        "X_train, X_test, y_train, y_test = train_test_split(X, y, random_state=1)\n",
        "print(X_train.shape, y_train.shape)\n",
        "print(X_test.shape, y_test.shape)"
      ],
      "execution_count": null,
      "outputs": [
        {
          "output_type": "stream",
          "text": [
            "(22704,) (22704,)\n",
            "(17028,) (17028,)\n",
            "(5676,) (5676,)\n"
          ],
          "name": "stdout"
        }
      ]
    },
    {
      "cell_type": "code",
      "metadata": {
        "colab": {
          "base_uri": "https://localhost:8080/"
        },
        "id": "-Wr_FAqnOfA9",
        "outputId": "e80f345f-885d-4d23-eb31-3959359243e9"
      },
      "source": [
        "#Step 2-3: Preprocess and Vectorize train and test data\n",
        "vect = CountVectorizer(preprocessor=clean) #instantiate a vectoriezer\n",
        "X_train_dtm = vect.fit_transform(X_train)#use it to extract features from training data\n",
        "#transform testing data (using training data's features)\n",
        "X_test_dtm = vect.transform(X_test)\n",
        "print(X_train_dtm.shape, X_test_dtm.shape)\n",
        "#i.e., the dimension of our feature vector is 31195!"
      ],
      "execution_count": null,
      "outputs": [
        {
          "output_type": "stream",
          "text": [
            "(17028, 11329) (5676, 11329)\n"
          ],
          "name": "stdout"
        }
      ]
    },
    {
      "cell_type": "markdown",
      "metadata": {
        "id": "yd5piKtYQgki"
      },
      "source": [
        "Naive Bayse Classifier"
      ]
    },
    {
      "cell_type": "code",
      "metadata": {
        "colab": {
          "base_uri": "https://localhost:8080/"
        },
        "id": "KHqgGggCQcYd",
        "outputId": "1cb9816d-c237-46a9-ef80-38230715c6b1"
      },
      "source": [
        "#Step 3: Train the classifier and predict for test data\n",
        "nb = MultinomialNB() #instantiate a Multinomial Naive Bayes model\n",
        "%time nb.fit(X_train_dtm, y_train)\n",
        "y_pred_class = nb.predict(X_test_dtm)#make class predictions for X_test_dtm"
      ],
      "execution_count": null,
      "outputs": [
        {
          "output_type": "stream",
          "text": [
            "CPU times: user 14.2 ms, sys: 1.84 ms, total: 16 ms\n",
            "Wall time: 16.2 ms\n"
          ],
          "name": "stdout"
        }
      ]
    },
    {
      "cell_type": "code",
      "metadata": {
        "colab": {
          "base_uri": "https://localhost:8080/"
        },
        "id": "56o3ZCGtQnbC",
        "outputId": "cd413a61-3ee6-4aa2-b734-f75c94c65184"
      },
      "source": [
        "#calculate evaluation measures:\n",
        "print(\"Accuracy: \", accuracy_score(y_test, y_pred_class))\n",
        "print(classification_report(y_test, y_pred_class))"
      ],
      "execution_count": null,
      "outputs": [
        {
          "output_type": "stream",
          "text": [
            "Accuracy:  0.6719520789288231\n",
            "              precision    recall  f1-score   support\n",
            "\n",
            "           1       0.59      0.92      0.72      2168\n",
            "           2       0.63      0.54      0.58       655\n",
            "           3       0.86      0.74      0.80       577\n",
            "           4       0.90      0.80      0.85       532\n",
            "           5       0.75      0.53      0.62       424\n",
            "           6       0.80      0.35      0.49       355\n",
            "           7       0.81      0.08      0.15       272\n",
            "           8       0.93      0.50      0.65       225\n",
            "           9       0.82      0.50      0.62       188\n",
            "          10       0.83      0.14      0.23       185\n",
            "          11       1.00      0.09      0.17        95\n",
            "\n",
            "    accuracy                           0.67      5676\n",
            "   macro avg       0.81      0.47      0.53      5676\n",
            "weighted avg       0.72      0.67      0.64      5676\n",
            "\n"
          ],
          "name": "stdout"
        }
      ]
    },
    {
      "cell_type": "code",
      "metadata": {
        "id": "N8UmXNmJ--Xf"
      },
      "source": [
        "from sklearn.metrics import confusion_matrix"
      ],
      "execution_count": null,
      "outputs": []
    },
    {
      "cell_type": "code",
      "metadata": {
        "colab": {
          "base_uri": "https://localhost:8080/"
        },
        "id": "L4QpSo_9_Jfs",
        "outputId": "ec1195fe-550a-4271-8194-333924241544"
      },
      "source": [
        "conf_mx=(confusion_matrix(y_test, y_pred_class))\n",
        "print(conf_mx)"
      ],
      "execution_count": null,
      "outputs": [
        {
          "output_type": "stream",
          "text": [
            "[[1994   86   18    6   35   13    2    1   10    3    0]\n",
            " [ 271  353    5    4   13    5    1    1    1    1    0]\n",
            " [ 102   12  428   25    5    3    0    0    2    0    0]\n",
            " [  56   10   29  427    3    4    1    2    0    0    0]\n",
            " [ 174   16    4    2  223    1    1    0    3    0    0]\n",
            " [ 194   22    3    0    9  126    0    1    0    0    0]\n",
            " [ 234    6    1    1    2    3   22    1    2    0    0]\n",
            " [  97    5    2    6    0    1    0  113    1    0    0]\n",
            " [  83    6    4    0    0    0    0    0   94    1    0]\n",
            " [ 138   13    1    0    6    0    0    1    1   25    0]\n",
            " [  40   32    4    4    3    2    0    1    0    0    9]]\n"
          ],
          "name": "stdout"
        }
      ]
    },
    {
      "cell_type": "code",
      "metadata": {
        "id": "8wZHvTtF_lMW"
      },
      "source": [
        "def plot_confusion_matrix(matrix):\n",
        "    \"\"\"If you prefer color and a colorbar\"\"\"\n",
        "    fig = plt.figure(figsize=(8,8))\n",
        "    ax = fig.add_subplot(111)\n",
        "    cax = ax.matshow(matrix)\n",
        "    fig.colorbar(cax)"
      ],
      "execution_count": null,
      "outputs": []
    },
    {
      "cell_type": "code",
      "metadata": {
        "id": "0fIiKzCc_4xo"
      },
      "source": [
        "%matplotlib inline\n",
        "import matplotlib as mpl\n",
        "import matplotlib.pyplot as plt\n",
        "mpl.rc('axes', labelsize=14)\n",
        "mpl.rc('xtick', labelsize=12)\n",
        "mpl.rc('ytick', labelsize=12)"
      ],
      "execution_count": null,
      "outputs": []
    },
    {
      "cell_type": "code",
      "metadata": {
        "colab": {
          "base_uri": "https://localhost:8080/",
          "height": 278
        },
        "id": "6CbM5nU3_m6o",
        "outputId": "da7acf8a-b6c0-49b4-cdce-315020d3be76"
      },
      "source": [
        "plt.matshow(conf_mx, cmap=plt.cm.gray)\n",
        "plt.show()"
      ],
      "execution_count": null,
      "outputs": [
        {
          "output_type": "display_data",
          "data": {
            "image/png": "[encoded data removed]",
            "text/plain": [
              "<Figure size 288x288 with 1 Axes>"
            ]
          },
          "metadata": {
            "tags": [],
            "needs_background": "light"
          }
        }
      ]
    },
    {
      "cell_type": "code",
      "metadata": {
        "id": "KOTC_20aAaI8"
      },
      "source": [
        "row_sums = conf_mx.sum(axis=1, keepdims=True)\n",
        "norm_conf_mx = conf_mx / row_sums"
      ],
      "execution_count": null,
      "outputs": []
    },
    {
      "cell_type": "code",
      "metadata": {
        "colab": {
          "base_uri": "https://localhost:8080/",
          "height": 278
        },
        "id": "wgMfIUdpAndV",
        "outputId": "e632702f-1d5a-4195-8184-5dd0d2621f7b"
      },
      "source": [
        "np.fill_diagonal(norm_conf_mx, 0)\n",
        "plt.matshow(norm_conf_mx, cmap=plt.cm.gray)\n",
        "plt.show()"
      ],
      "execution_count": null,
      "outputs": [
        {
          "output_type": "display_data",
          "data": {
            "image/png": "[encoded data removed]",
            "text/plain": [
              "<Figure size 288x288 with 1 Axes>"
            ]
          },
          "metadata": {
            "tags": [],
            "needs_background": "light"
          }
        }
      ]
    }
  ]
}