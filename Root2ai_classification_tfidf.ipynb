{
  "nbformat": 4,
  "nbformat_minor": 0,
  "metadata": {
    "colab": {
      "name": "Root2ai_classification_tfidf.ipynb",
      "provenance": [],
      "collapsed_sections": [],
      "authorship_tag": "ABX9TyP8pQBwJXnVXa4z9zOQ90in",
      "include_colab_link": true
    },
    "kernelspec": {
      "name": "python3",
      "display_name": "Python 3"
    },
    "language_info": {
      "name": "python"
    }
  },
  "cells": [
    {
      "cell_type": "markdown",
      "metadata": {
        "id": "view-in-github",
        "colab_type": "text"
      },
      "source": [
        "<a href=\"https://colab.research.google.com/github/maitysuvo19/internship_root2ai_classify_text/blob/main/Root2ai_classification_tfidf.ipynb\" target=\"_parent\"><img src=\"https://colab.research.google.com/assets/colab-badge.svg\" alt=\"Open In Colab\"/></a>"
      ]
    },
    {
      "cell_type": "markdown",
      "metadata": {
        "id": "9zH_IWM8T4IC"
      },
      "source": [
        "# Importing necessary libraries"
      ]
    },
    {
      "cell_type": "code",
      "metadata": {
        "colab": {
          "base_uri": "https://localhost:8080/"
        },
        "id": "Y9bdLUciTbeQ",
        "outputId": "a8d07cb5-30e5-44f0-ecff-b4969d2a30e3"
      },
      "source": [
        "import os\n",
        "import pandas as pd\n",
        "import numpy as np\n",
        "\n",
        "#import feature extraction methods from sklearn\n",
        "from sklearn.feature_extraction.text import TfidfVectorizer\n",
        "from sklearn.feature_extraction import stop_words\n",
        "\n",
        "#pre-processing of text\n",
        "import string\n",
        "import re\n",
        "\n",
        "#import classifiers from sklearn\n",
        "from sklearn.naive_bayes import MultinomialNB\n",
        "from sklearn.linear_model import LogisticRegression\n",
        "from sklearn.svm import LinearSVC\n",
        "\n",
        "#import different metrics to evaluate the classifiers\n",
        "from sklearn.metrics import accuracy_score\n",
        "from sklearn.model_selection import train_test_split\n",
        "from sklearn.metrics import confusion_matrix,classification_report \n",
        "from sklearn import metrics\n",
        "\n",
        "#import time function from time module to track the training duration\n",
        "from time import time"
      ],
      "execution_count": null,
      "outputs": [
        {
          "output_type": "stream",
          "text": [
            "/usr/local/lib/python3.7/dist-packages/sklearn/utils/deprecation.py:144: FutureWarning: The sklearn.feature_extraction.stop_words module is  deprecated in version 0.22 and will be removed in version 0.24. The corresponding classes / functions should instead be imported from sklearn.feature_extraction.text. Anything that cannot be imported from sklearn.feature_extraction.text is now part of the private API.\n",
            "  warnings.warn(message, FutureWarning)\n"
          ],
          "name": "stderr"
        }
      ]
    },
    {
      "cell_type": "code",
      "metadata": {
        "id": "yGpqjWseUC-7"
      },
      "source": [
        "df=pd.read_csv('/content/root2ai - Data.csv')"
      ],
      "execution_count": null,
      "outputs": []
    },
    {
      "cell_type": "code",
      "metadata": {
        "colab": {
          "base_uri": "https://localhost:8080/",
          "height": 195
        },
        "id": "ohYPVsmDUUTH",
        "outputId": "bb62fbca-2983-44ed-d5b0-1c64f3f2dc6e"
      },
      "source": [
        "df.head()"
      ],
      "execution_count": null,
      "outputs": [
        {
          "output_type": "execute_result",
          "data": {
            "text/html": [
              "<div>\n",
              "<style scoped>\n",
              "    .dataframe tbody tr th:only-of-type {\n",
              "        vertical-align: middle;\n",
              "    }\n",
              "\n",
              "    .dataframe tbody tr th {\n",
              "        vertical-align: top;\n",
              "    }\n",
              "\n",
              "    .dataframe thead th {\n",
              "        text-align: right;\n",
              "    }\n",
              "</style>\n",
              "<table border=\"1\" class=\"dataframe\">\n",
              "  <thead>\n",
              "    <tr style=\"text-align: right;\">\n",
              "      <th></th>\n",
              "      <th>Text</th>\n",
              "      <th>Target</th>\n",
              "    </tr>\n",
              "  </thead>\n",
              "  <tbody>\n",
              "    <tr>\n",
              "      <th>0</th>\n",
              "      <td>reserve bank forming expert committee based in...</td>\n",
              "      <td>Blockchain</td>\n",
              "    </tr>\n",
              "    <tr>\n",
              "      <th>1</th>\n",
              "      <td>director could play role financial system</td>\n",
              "      <td>Blockchain</td>\n",
              "    </tr>\n",
              "    <tr>\n",
              "      <th>2</th>\n",
              "      <td>preliminary discuss secure transaction study r...</td>\n",
              "      <td>Blockchain</td>\n",
              "    </tr>\n",
              "    <tr>\n",
              "      <th>3</th>\n",
              "      <td>security indeed prove essential transforming f...</td>\n",
              "      <td>Blockchain</td>\n",
              "    </tr>\n",
              "    <tr>\n",
              "      <th>4</th>\n",
              "      <td>bank settlement normally take three days based...</td>\n",
              "      <td>Blockchain</td>\n",
              "    </tr>\n",
              "  </tbody>\n",
              "</table>\n",
              "</div>"
            ],
            "text/plain": [
              "                                                Text      Target\n",
              "0  reserve bank forming expert committee based in...  Blockchain\n",
              "1          director could play role financial system  Blockchain\n",
              "2  preliminary discuss secure transaction study r...  Blockchain\n",
              "3  security indeed prove essential transforming f...  Blockchain\n",
              "4  bank settlement normally take three days based...  Blockchain"
            ]
          },
          "metadata": {
            "tags": []
          },
          "execution_count": 3
        }
      ]
    },
    {
      "cell_type": "code",
      "metadata": {
        "colab": {
          "base_uri": "https://localhost:8080/"
        },
        "id": "-GnHIh5EUaKP",
        "outputId": "18ca78f1-c3c5-435f-cb1d-2cdba86f6471"
      },
      "source": [
        "df[\"Target\"].value_counts()/df.shape[0]"
      ],
      "execution_count": null,
      "outputs": [
        {
          "output_type": "execute_result",
          "data": {
            "text/plain": [
              "FinTech             0.376630\n",
              "Cyber Security      0.116279\n",
              "Bigdata             0.099850\n",
              "Reg Tech            0.097163\n",
              "credit reporting    0.076991\n",
              "Blockchain          0.060562\n",
              "Neobanks            0.047084\n",
              "Microservices       0.043032\n",
              "Stock Trading       0.034663\n",
              "Robo Advising       0.032461\n",
              "Data Security       0.015284\n",
              "Name: Target, dtype: float64"
            ]
          },
          "metadata": {
            "tags": []
          },
          "execution_count": 4
        }
      ]
    },
    {
      "cell_type": "code",
      "metadata": {
        "colab": {
          "base_uri": "https://localhost:8080/",
          "height": 195
        },
        "id": "cbZ_q1VYUjNg",
        "outputId": "e40ed019-3963-4608-fd08-87d29c7a72ca"
      },
      "source": [
        "df['Target'] =df.Target.map({'FinTech':1, 'Cyber Security':2,'Bigdata':3,'Reg Tech':4,'credit reporting':5,'Blockchain':6,'Neobanks':7,'Microservices':8,'Stock Trading':9,'Robo Advising':10,'Data Security':11})\n",
        "df = df[[\"Text\",\"Target\"]]\n",
        "df.head()"
      ],
      "execution_count": null,
      "outputs": [
        {
          "output_type": "execute_result",
          "data": {
            "text/html": [
              "<div>\n",
              "<style scoped>\n",
              "    .dataframe tbody tr th:only-of-type {\n",
              "        vertical-align: middle;\n",
              "    }\n",
              "\n",
              "    .dataframe tbody tr th {\n",
              "        vertical-align: top;\n",
              "    }\n",
              "\n",
              "    .dataframe thead th {\n",
              "        text-align: right;\n",
              "    }\n",
              "</style>\n",
              "<table border=\"1\" class=\"dataframe\">\n",
              "  <thead>\n",
              "    <tr style=\"text-align: right;\">\n",
              "      <th></th>\n",
              "      <th>Text</th>\n",
              "      <th>Target</th>\n",
              "    </tr>\n",
              "  </thead>\n",
              "  <tbody>\n",
              "    <tr>\n",
              "      <th>0</th>\n",
              "      <td>reserve bank forming expert committee based in...</td>\n",
              "      <td>6</td>\n",
              "    </tr>\n",
              "    <tr>\n",
              "      <th>1</th>\n",
              "      <td>director could play role financial system</td>\n",
              "      <td>6</td>\n",
              "    </tr>\n",
              "    <tr>\n",
              "      <th>2</th>\n",
              "      <td>preliminary discuss secure transaction study r...</td>\n",
              "      <td>6</td>\n",
              "    </tr>\n",
              "    <tr>\n",
              "      <th>3</th>\n",
              "      <td>security indeed prove essential transforming f...</td>\n",
              "      <td>6</td>\n",
              "    </tr>\n",
              "    <tr>\n",
              "      <th>4</th>\n",
              "      <td>bank settlement normally take three days based...</td>\n",
              "      <td>6</td>\n",
              "    </tr>\n",
              "  </tbody>\n",
              "</table>\n",
              "</div>"
            ],
            "text/plain": [
              "                                                Text  Target\n",
              "0  reserve bank forming expert committee based in...       6\n",
              "1          director could play role financial system       6\n",
              "2  preliminary discuss secure transaction study r...       6\n",
              "3  security indeed prove essential transforming f...       6\n",
              "4  bank settlement normally take three days based...       6"
            ]
          },
          "metadata": {
            "tags": []
          },
          "execution_count": 5
        }
      ]
    },
    {
      "cell_type": "markdown",
      "metadata": {
        "id": "SD_KNSrgUtL0"
      },
      "source": [
        "# Text Pre-processing"
      ]
    },
    {
      "cell_type": "markdown",
      "metadata": {
        "id": "9RYUBotmUz5d"
      },
      "source": [
        "Typical steps involve tokenization, lower casing, removing, stop words, punctuation markers etc, and vectorization. Other processes such as stemming/lemmatization can also be performed. Here, we are performing the following steps: removing br tags, punctuation, numbers, and stopwords. While we are using sklearn's list of stopwords, there are several other stop word lists (e.g., from NLTK) or sometimes, custom stopword lists are needed depending on the task.\n",
        "\n"
      ]
    },
    {
      "cell_type": "code",
      "metadata": {
        "id": "Zk7zI1FxUpY-"
      },
      "source": [
        "stopwords = stop_words.ENGLISH_STOP_WORDS\n",
        "def clean(doc): #doc is a string of text\n",
        "    doc = doc.replace(\"</br>\", \" \") #This text contains a lot of <br/> tags.\n",
        "    doc = \"\".join([char for char in doc if char not in string.punctuation and not char.isdigit()])\n",
        "    doc = \" \".join([token for token in doc.split() if token not in stopwords])\n",
        "    #remove punctuation and numbers\n",
        "    return doc"
      ],
      "execution_count": null,
      "outputs": []
    },
    {
      "cell_type": "markdown",
      "metadata": {
        "id": "b8K5Ie6IU9Jn"
      },
      "source": [
        "# Modeling"
      ]
    },
    {
      "cell_type": "code",
      "metadata": {
        "colab": {
          "base_uri": "https://localhost:8080/"
        },
        "id": "C_J6rY3AU5gx",
        "outputId": "522052bd-50b2-4fe5-d599-f8c483e1b0aa"
      },
      "source": [
        "#Step 1: train-test split\n",
        "X = df.Text.fillna(' ') #the column text contains textual data to extract features from\n",
        "y = df.Target #this is the column we are learning to predict. \n",
        "print(X.shape, y.shape)\n",
        "# split X and y into training and testing sets. By default, it splits 75% training and 25% test\n",
        "#random_state=1 for reproducibility\n",
        "X_train, X_test, y_train, y_test = train_test_split(X, y, random_state=1)\n",
        "print(X_train.shape, y_train.shape)\n",
        "print(X_test.shape, y_test.shape)"
      ],
      "execution_count": null,
      "outputs": [
        {
          "output_type": "stream",
          "text": [
            "(22704,) (22704,)\n",
            "(17028,) (17028,)\n",
            "(5676,) (5676,)\n"
          ],
          "name": "stdout"
        }
      ]
    },
    {
      "cell_type": "code",
      "metadata": {
        "colab": {
          "base_uri": "https://localhost:8080/"
        },
        "id": "bnTPxUQsVZg5",
        "outputId": "d91ac8f4-dc75-46eb-fdbf-c35a5c1a88ca"
      },
      "source": [
        "#Step 2-3: Preprocess and Vectorize train and test data\n",
        "vect = TfidfVectorizer(preprocessor=clean) #instantiate a vectoriezer\n",
        "X_train_dtm = vect.fit_transform(X_train)#use it to extract features from training data\n",
        "#transform testing data (using training data's features)\n",
        "X_test_dtm = vect.transform(X_test)\n",
        "print(X_train_dtm.shape, X_test_dtm.shape)\n",
        "#i.e., the dimension of our feature vector is 31195!"
      ],
      "execution_count": null,
      "outputs": [
        {
          "output_type": "stream",
          "text": [
            "(17028, 11329) (5676, 11329)\n"
          ],
          "name": "stdout"
        }
      ]
    },
    {
      "cell_type": "markdown",
      "metadata": {
        "id": "aAezZ-XpVvKa"
      },
      "source": [
        "Naive Bayse Classifier"
      ]
    },
    {
      "cell_type": "code",
      "metadata": {
        "colab": {
          "base_uri": "https://localhost:8080/"
        },
        "id": "7W83GBDcVr0p",
        "outputId": "f56951d7-21b4-4ca3-bcc1-08bf352c79aa"
      },
      "source": [
        "#Step 3: Train the classifier and predict for test data\n",
        "nb = MultinomialNB() #instantiate a Multinomial Naive Bayes model\n",
        "%time nb.fit(X_train_dtm, y_train)\n",
        "y_pred_class = nb.predict(X_test_dtm)#make class predictions for X_test_dtm\n",
        "#calculate evaluation measures:\n",
        "print(\"Accuracy: \", accuracy_score(y_test, y_pred_class))\n",
        "print(classification_report(y_test, y_pred_class))"
      ],
      "execution_count": null,
      "outputs": [
        {
          "output_type": "stream",
          "text": [
            "CPU times: user 13.3 ms, sys: 860 µs, total: 14.1 ms\n",
            "Wall time: 17.4 ms\n",
            "Accuracy:  0.5266032417195208\n",
            "              precision    recall  f1-score   support\n",
            "\n",
            "           1       0.45      0.99      0.62      2168\n",
            "           2       0.78      0.23      0.36       655\n",
            "           3       0.94      0.46      0.62       577\n",
            "           4       0.95      0.63      0.75       532\n",
            "           5       0.86      0.09      0.16       424\n",
            "           6       0.85      0.05      0.09       355\n",
            "           7       1.00      0.01      0.01       272\n",
            "           8       1.00      0.06      0.11       225\n",
            "           9       1.00      0.06      0.11       188\n",
            "          10       0.00      0.00      0.00       185\n",
            "          11       1.00      0.03      0.06        95\n",
            "\n",
            "    accuracy                           0.53      5676\n",
            "   macro avg       0.80      0.24      0.26      5676\n",
            "weighted avg       0.70      0.53      0.44      5676\n",
            "\n"
          ],
          "name": "stdout"
        },
        {
          "output_type": "stream",
          "text": [
            "/usr/local/lib/python3.7/dist-packages/sklearn/metrics/_classification.py:1272: UndefinedMetricWarning: Precision and F-score are ill-defined and being set to 0.0 in labels with no predicted samples. Use `zero_division` parameter to control this behavior.\n",
            "  _warn_prf(average, modifier, msg_start, len(result))\n"
          ],
          "name": "stderr"
        }
      ]
    },
    {
      "cell_type": "markdown",
      "metadata": {
        "id": "o0ihgLQqV_d8"
      },
      "source": [
        "Logistic Regression Classifier"
      ]
    },
    {
      "cell_type": "code",
      "metadata": {
        "colab": {
          "base_uri": "https://localhost:8080/"
        },
        "id": "U5zRDmlvV7Dw",
        "outputId": "3de0076f-47cd-4f2b-c45b-5b75c2ed2673"
      },
      "source": [
        "logreg = LogisticRegression(class_weight=\"balanced\") #instantiate a logistic regression model\n",
        "logreg.fit(X_train_dtm, y_train) #fit the model with training data\n",
        "\n",
        "#Make predictions on test data\n",
        "y_pred_class = logreg.predict(X_test_dtm)\n",
        "\n",
        "#calculate evaluation measures:\n",
        "print(\"Accuracy: \", accuracy_score(y_test, y_pred_class))\n",
        "print(classification_report(y_test, y_pred_class))"
      ],
      "execution_count": null,
      "outputs": [
        {
          "output_type": "stream",
          "text": [
            "Accuracy:  0.5910852713178295\n",
            "              precision    recall  f1-score   support\n",
            "\n",
            "           1       0.80      0.44      0.57      2168\n",
            "           2       0.54      0.57      0.56       655\n",
            "           3       0.67      0.84      0.74       577\n",
            "           4       0.85      0.79      0.82       532\n",
            "           5       0.61      0.66      0.64       424\n",
            "           6       0.46      0.66      0.54       355\n",
            "           7       0.30      0.57      0.39       272\n",
            "           8       0.52      0.70      0.60       225\n",
            "           9       0.44      0.70      0.54       188\n",
            "          10       0.35      0.61      0.45       185\n",
            "          11       0.28      0.43      0.34        95\n",
            "\n",
            "    accuracy                           0.59      5676\n",
            "   macro avg       0.53      0.63      0.56      5676\n",
            "weighted avg       0.65      0.59      0.60      5676\n",
            "\n"
          ],
          "name": "stdout"
        },
        {
          "output_type": "stream",
          "text": [
            "/usr/local/lib/python3.7/dist-packages/sklearn/linear_model/_logistic.py:940: ConvergenceWarning: lbfgs failed to converge (status=1):\n",
            "STOP: TOTAL NO. of ITERATIONS REACHED LIMIT.\n",
            "\n",
            "Increase the number of iterations (max_iter) or scale the data as shown in:\n",
            "    https://scikit-learn.org/stable/modules/preprocessing.html\n",
            "Please also refer to the documentation for alternative solver options:\n",
            "    https://scikit-learn.org/stable/modules/linear_model.html#logistic-regression\n",
            "  extra_warning_msg=_LOGISTIC_SOLVER_CONVERGENCE_MSG)\n"
          ],
          "name": "stderr"
        }
      ]
    },
    {
      "cell_type": "markdown",
      "metadata": {
        "id": "we9Am1tmWNBP"
      },
      "source": [
        "Support Vector Machine"
      ]
    },
    {
      "cell_type": "code",
      "metadata": {
        "colab": {
          "base_uri": "https://localhost:8080/"
        },
        "id": "krVqwGdrWHIe",
        "outputId": "0a4a6bf6-23a7-43de-9875-d41095a3e33e"
      },
      "source": [
        "svm = LinearSVC(class_weight='balanced') #instantiate a support vector machine model\n",
        "svm.fit(X_train_dtm, y_train) #fit the model with training data\n",
        "\n",
        "#Make predictions on test data\n",
        "y_pred_class = svm.predict(X_test_dtm)\n",
        "\n",
        "#calculate evaluation measures:\n",
        "print(\"Accuracy: \", accuracy_score(y_test, y_pred_class))\n",
        "print(classification_report(y_test, y_pred_class))"
      ],
      "execution_count": null,
      "outputs": [
        {
          "output_type": "stream",
          "text": [
            "Accuracy:  0.6460535588442565\n",
            "              precision    recall  f1-score   support\n",
            "\n",
            "           1       0.76      0.60      0.67      2168\n",
            "           2       0.57      0.61      0.59       655\n",
            "           3       0.75      0.84      0.79       577\n",
            "           4       0.88      0.81      0.84       532\n",
            "           5       0.58      0.67      0.62       424\n",
            "           6       0.55      0.61      0.58       355\n",
            "           7       0.38      0.49      0.43       272\n",
            "           8       0.60      0.68      0.64       225\n",
            "           9       0.49      0.69      0.57       188\n",
            "          10       0.38      0.55      0.45       185\n",
            "          11       0.32      0.40      0.36        95\n",
            "\n",
            "    accuracy                           0.65      5676\n",
            "   macro avg       0.57      0.63      0.59      5676\n",
            "weighted avg       0.67      0.65      0.65      5676\n",
            "\n"
          ],
          "name": "stdout"
        }
      ]
    },
    {
      "cell_type": "markdown",
      "metadata": {
        "id": "lMONZMIgWnKb"
      },
      "source": [
        "Our large feature vector could be creating a lot of noise in the form of very rarely occurring features that are not useful for learning. Let us change the count vectorizer to take a certain number of features as maximum."
      ]
    },
    {
      "cell_type": "code",
      "metadata": {
        "colab": {
          "base_uri": "https://localhost:8080/"
        },
        "id": "xIvY4yXxWoh0",
        "outputId": "dfd439ee-27ae-46ab-8c17-dcbda1e635b7"
      },
      "source": [
        "#Step 2-3: Preprocess and Vectorize train and test data\n",
        "vect = TfidfVectorizer(preprocessor=clean,max_features=5000) #instantiate a vectoriezer\n",
        "X_train_dtm = vect.fit_transform(X_train)#use it to extract features from training data\n",
        "#transform testing data (using training data's features)\n",
        "X_test_dtm = vect.transform(X_test)\n",
        "print(X_train_dtm.shape, X_test_dtm.shape)\n",
        "#i.e., the dimension of our feature vector is 5000!"
      ],
      "execution_count": null,
      "outputs": [
        {
          "output_type": "stream",
          "text": [
            "(17028, 5000) (5676, 5000)\n"
          ],
          "name": "stdout"
        }
      ]
    },
    {
      "cell_type": "markdown",
      "metadata": {
        "id": "4Vz5n8dYWyyg"
      },
      "source": [
        "Naive Bayse Classifier"
      ]
    },
    {
      "cell_type": "code",
      "metadata": {
        "colab": {
          "base_uri": "https://localhost:8080/"
        },
        "id": "Foudjl-KWvuG",
        "outputId": "4441db8c-afeb-42ff-fc34-3f893a96e14e"
      },
      "source": [
        "#Step 3: Train the classifier and predict for test data\n",
        "nb = MultinomialNB() #instantiate a Multinomial Naive Bayes model\n",
        "%time nb.fit(X_train_dtm, y_train)\n",
        "y_pred_class = nb.predict(X_test_dtm)#make class predictions for X_test_dtm\n",
        "#calculate evaluation measures:\n",
        "print(\"Accuracy: \", accuracy_score(y_test, y_pred_class))\n",
        "print(classification_report(y_test, y_pred_class))"
      ],
      "execution_count": null,
      "outputs": [
        {
          "output_type": "stream",
          "text": [
            "CPU times: user 11.5 ms, sys: 1.3 ms, total: 12.8 ms\n",
            "Wall time: 13.8 ms\n",
            "Accuracy:  0.5805144467935166\n",
            "              precision    recall  f1-score   support\n",
            "\n",
            "           1       0.49      0.98      0.66      2168\n",
            "           2       0.70      0.36      0.48       655\n",
            "           3       0.89      0.54      0.67       577\n",
            "           4       0.92      0.71      0.80       532\n",
            "           5       0.86      0.23      0.37       424\n",
            "           6       0.89      0.13      0.23       355\n",
            "           7       1.00      0.02      0.04       272\n",
            "           8       1.00      0.17      0.30       225\n",
            "           9       1.00      0.23      0.38       188\n",
            "          10       1.00      0.01      0.02       185\n",
            "          11       1.00      0.04      0.08        95\n",
            "\n",
            "    accuracy                           0.58      5676\n",
            "   macro avg       0.89      0.31      0.37      5676\n",
            "weighted avg       0.74      0.58      0.52      5676\n",
            "\n"
          ],
          "name": "stdout"
        }
      ]
    },
    {
      "cell_type": "markdown",
      "metadata": {
        "id": "1LWLLeXdW_OJ"
      },
      "source": [
        "Logistic Regression Classifier\n",
        "\n"
      ]
    },
    {
      "cell_type": "code",
      "metadata": {
        "colab": {
          "base_uri": "https://localhost:8080/"
        },
        "id": "A2dfJiiRW8Ul",
        "outputId": "2aa96413-a41b-4acf-a93d-fe697c4f06da"
      },
      "source": [
        "logreg = LogisticRegression(class_weight=\"balanced\") #instantiate a logistic regression model\n",
        "logreg.fit(X_train_dtm, y_train) #fit the model with training data\n",
        "\n",
        "#Make predictions on test data\n",
        "y_pred_class = logreg.predict(X_test_dtm)\n",
        "\n",
        "#calculate evaluation measures:\n",
        "print(\"Accuracy: \", accuracy_score(y_test, y_pred_class))\n",
        "print(classification_report(y_test, y_pred_class))"
      ],
      "execution_count": null,
      "outputs": [
        {
          "output_type": "stream",
          "text": [
            "Accuracy:  0.5821000704721635\n",
            "              precision    recall  f1-score   support\n",
            "\n",
            "           1       0.80      0.44      0.56      2168\n",
            "           2       0.54      0.56      0.55       655\n",
            "           3       0.65      0.84      0.73       577\n",
            "           4       0.84      0.75      0.79       532\n",
            "           5       0.62      0.66      0.64       424\n",
            "           6       0.45      0.65      0.53       355\n",
            "           7       0.30      0.58      0.39       272\n",
            "           8       0.49      0.70      0.58       225\n",
            "           9       0.42      0.69      0.53       188\n",
            "          10       0.35      0.61      0.44       185\n",
            "          11       0.25      0.43      0.32        95\n",
            "\n",
            "    accuracy                           0.58      5676\n",
            "   macro avg       0.52      0.63      0.55      5676\n",
            "weighted avg       0.65      0.58      0.59      5676\n",
            "\n"
          ],
          "name": "stdout"
        },
        {
          "output_type": "stream",
          "text": [
            "/usr/local/lib/python3.7/dist-packages/sklearn/linear_model/_logistic.py:940: ConvergenceWarning: lbfgs failed to converge (status=1):\n",
            "STOP: TOTAL NO. of ITERATIONS REACHED LIMIT.\n",
            "\n",
            "Increase the number of iterations (max_iter) or scale the data as shown in:\n",
            "    https://scikit-learn.org/stable/modules/preprocessing.html\n",
            "Please also refer to the documentation for alternative solver options:\n",
            "    https://scikit-learn.org/stable/modules/linear_model.html#logistic-regression\n",
            "  extra_warning_msg=_LOGISTIC_SOLVER_CONVERGENCE_MSG)\n"
          ],
          "name": "stderr"
        }
      ]
    },
    {
      "cell_type": "markdown",
      "metadata": {
        "id": "faWBm38OXHhB"
      },
      "source": [
        "Support Vector Machine"
      ]
    },
    {
      "cell_type": "code",
      "metadata": {
        "colab": {
          "base_uri": "https://localhost:8080/"
        },
        "id": "Kx6TjAz5XGwr",
        "outputId": "0518e109-2503-4431-c3cb-34c2fafde39a"
      },
      "source": [
        "svm = LinearSVC(class_weight='balanced') #instantiate a support vector machine model\n",
        "svm.fit(X_train_dtm, y_train) #fit the model with training data\n",
        "\n",
        "#Make predictions on test data\n",
        "y_pred_class = svm.predict(X_test_dtm)\n",
        "\n",
        "#calculate evaluation measures:\n",
        "print(\"Accuracy: \", accuracy_score(y_test, y_pred_class))\n",
        "print(classification_report(y_test, y_pred_class))"
      ],
      "execution_count": null,
      "outputs": [
        {
          "output_type": "stream",
          "text": [
            "Accuracy:  0.6280831571529246\n",
            "              precision    recall  f1-score   support\n",
            "\n",
            "           1       0.77      0.58      0.66      2168\n",
            "           2       0.57      0.60      0.58       655\n",
            "           3       0.71      0.82      0.76       577\n",
            "           4       0.86      0.78      0.82       532\n",
            "           5       0.57      0.66      0.61       424\n",
            "           6       0.51      0.60      0.55       355\n",
            "           7       0.36      0.48      0.41       272\n",
            "           8       0.59      0.67      0.63       225\n",
            "           9       0.46      0.68      0.55       188\n",
            "          10       0.36      0.54      0.44       185\n",
            "          11       0.29      0.38      0.33        95\n",
            "\n",
            "    accuracy                           0.63      5676\n",
            "   macro avg       0.55      0.62      0.57      5676\n",
            "weighted avg       0.66      0.63      0.63      5676\n",
            "\n"
          ],
          "name": "stdout"
        }
      ]
    }
  ]
}